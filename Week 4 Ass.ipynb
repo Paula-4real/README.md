{
 "cells": [
  {
   "cell_type": "markdown",
   "id": "dd92a83a-6439-49b7-9191-29651ab668a0",
   "metadata": {},
   "source": [
    "# My Jupyter Notebook on IBM Watson Studio"
   ]
  },
  {
   "cell_type": "markdown",
   "id": "4b4fdd20-1757-4975-b81f-bbfa2266646a",
   "metadata": {},
   "source": [
    "**PALINE DENZEL-AJIE** \n",
    "Data Scientist"
   ]
  },
  {
   "cell_type": "markdown",
   "id": "a17d53e5-2e4b-4e07-ae02-165fbade0279",
   "metadata": {},
   "source": [
    "_I am interested in data science because i am passionate about things that are related to data. I desire to be good at sourcing and analysing data_"
   ]
  },
  {
   "cell_type": "markdown",
   "id": "446996c3-72b7-40e8-b753-19bf43a193b5",
   "metadata": {},
   "source": [
    "###The code in cell 5 is supposed to print Hello World"
   ]
  },
  {
   "cell_type": "code",
   "execution_count": 1,
   "id": "fc050230-d49a-4380-b0b3-5465f708b659",
   "metadata": {},
   "outputs": [
    {
     "name": "stdout",
     "output_type": "stream",
     "text": [
      "Hello World\n"
     ]
    }
   ],
   "source": [
    "print(\"Hello World\")"
   ]
  },
  {
   "cell_type": "markdown",
   "id": "cd9377ef-b4f2-4722-b7a2-7fa6fabf74c4",
   "metadata": {},
   "source": [
    "~~Project~~\n",
    "1. Test\n",
    "- Test 2\n",
    "___________\n"
   ]
  }
 ],
 "metadata": {
  "kernelspec": {
   "display_name": "Python",
   "language": "python",
   "name": "conda-env-python-py"
  },
  "language_info": {
   "codemirror_mode": {
    "name": "ipython",
    "version": 3
   },
   "file_extension": ".py",
   "mimetype": "text/x-python",
   "name": "python",
   "nbconvert_exporter": "python",
   "pygments_lexer": "ipython3",
   "version": "3.7.12"
  }
 },
 "nbformat": 4,
 "nbformat_minor": 5
}
